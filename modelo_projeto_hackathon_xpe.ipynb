{
 "cells": [
  {
   "cell_type": "markdown",
   "metadata": {},
   "source": [
    "### Hackathon XPE \n",
    "\n",
    "<p>Projeto Time 20 - Aplicando Machine learning para prever valores de venda de imóveis</p>\n",
    "<p>Origem dos dados para treino: <a>https://www.kaggle.com/code/gusthema/house-prices-prediction-using-tfdf</a></p>"
   ]
  },
  {
   "cell_type": "code",
   "execution_count": null,
   "metadata": {},
   "outputs": [],
   "source": [
    "import pickle\n",
    "import sklearn\n",
    "import numpy as np\n",
    "import pandas as pd\n",
    "import matplotlib.pyplot as plt\n",
    "from sklearn.model_selection import train_test_split, GridSearchCV\n",
    "from sklearn.ensemble import GradientBoostingRegressor\n",
    "from sklearn.preprocessing import LabelEncoder \n",
    "import seaborn as sb\n",
    "from sklearn.metrics import mean_absolute_error, mean_squared_error, r2_score\n",
    "from pandas.api.types import is_object_dtype\n",
    "from sklearn.preprocessing import StandardScaler\n",
    "from sklearn.linear_model import LinearRegression\n",
    "from sklearn.model_selection import cross_val_score\n",
    "import pickle"
   ]
  },
  {
   "cell_type": "markdown",
   "metadata": {},
   "source": [
    "## Carregando e Compreendendo os Dados"
   ]
  },
  {
   "cell_type": "code",
   "execution_count": null,
   "metadata": {},
   "outputs": [],
   "source": [
    "df = pd.read_csv('./dados/train.csv')"
   ]
  },
  {
   "cell_type": "code",
   "execution_count": null,
   "metadata": {},
   "outputs": [],
   "source": [
    "# Escolhido campos que são mais compatíveis com as características dos imoveis brasileiros\n",
    "\n",
    "lista_campos = [\n",
    "    'LotArea', # Tamanho do lote em pés quadrados\n",
    "    'Condition1', # proximidade a estação\n",
    "    'Condition2', # Proximidade da estrada principal ou ferrovia (se houver uma segunda)\n",
    "    'Street', # Tipo de estrada de acesso à propriedade\n",
    "    'LotShape', # Forma geral da propriedade\n",
    "    'Utilities', #  Tipo de utilitários disponíveis\n",
    "    'GrLivArea', # Área de estar acima do nível do solo (pés quadrados)\n",
    "    'BldgType', # Tipo de habitação\n",
    "    'OverallQual', # Avalia o material geral e o acabamento da casa\n",
    "    'OverallCond', # Avalia o estado geral da casa\n",
    "    'YearBuilt', # Data original de construção\n",
    "    'YearRemodAdd', #  Data da remodelação (igual à data de construção, se não houver reformas)\n",
    "    'RoofMatl', # Material de telhado\n",
    "    'Exterior1st', # Cobertura externa da casa\n",
    "    'ExterCond', # Condição atual do material no exterior\n",
    "    'Foundation', # Tipo de fundação\n",
    "    'Electrical', # Sistema elétrico\n",
    "    '1stFlrSF', # Primeiro andar pés quadrados\n",
    "    '2ndFlrSF', # Segundo andar pés quadrados\n",
    "    'FullBath', # Banheiros completos acima do nível do solo\n",
    "    'BedroomAbvGr', # Número de quartos acima do nível do subsolo\n",
    "    'KitchenQual', # Qualidade da cozinha\n",
    "    'TotRmsAbvGrd', # Total de cômodos acima do nível do solo (não inclui banheiros)\n",
    "    'GarageCars', # Tamanho da garagem em capacidade de carros\n",
    "    'GarageArea', # Tamanho da garagem em pés quadrados\n",
    "    'OpenPorchSF', # Área de varanda aberta em pés quadrados\n",
    "    'PoolArea', # Área da piscina em pés quadrados\n",
    "    'MoSold', # Mes de Venda\n",
    "    'YrSold', # Ano de Venda\n",
    "    'SaleCondition', # Condição da venda\n",
    "    'SalePrice', # Preço de Venda\n",
    "\n",
    "]"
   ]
  },
  {
   "cell_type": "code",
   "execution_count": null,
   "metadata": {},
   "outputs": [],
   "source": [
    "# Cria dataframe separado para verificar a correlação\n",
    "# e transformar as variaveis categoricas em variaveis numéricas\n",
    "# usando a função de LabelEncoder\n",
    "df_corr = df[lista_campos]\n",
    "\n",
    "label_encoder = LabelEncoder()\n",
    "\n",
    "for column in lista_campos:\n",
    "\n",
    "    if is_object_dtype(df[column]):\n",
    "        # print(\"colunas é string:\", column)\n",
    "        df_corr[column] = label_encoder.fit_transform(df_corr[column])"
   ]
  },
  {
   "cell_type": "code",
   "execution_count": null,
   "metadata": {},
   "outputs": [],
   "source": [
    "# 3. Gerar a matriz de correlação de Pearson\n",
    "correlation_matrix = df_corr.corr()\n",
    "\n",
    "# 4. Plotando o heatmap para visualizar as correlações\n",
    "plt.figure(figsize = (28,14)) \n",
    "sb.heatmap(correlation_matrix, annot=True, cmap='Oranges', linewidths=0.5)\n",
    "plt.title('Matriz de Correlação')\n",
    "plt.show()\n",
    "\n",
    "# 5. Selecionar as variáveis mais correlacionadas com SalePrice (digamos acima de 0.5)\n",
    "high_corr_features = correlation_matrix.index[abs(correlation_matrix[\"SalePrice\"]) > 0.5]\n",
    "print(\"Variáveis fortemente correlacionadas com SalePrice:\")\n",
    "print(high_corr_features)"
   ]
  },
  {
   "cell_type": "code",
   "execution_count": null,
   "metadata": {},
   "outputs": [],
   "source": [
    "lista_campos_forte_correlacao = [\n",
    "    'OverallQual', # Qualidade geral do material e do acabamento\n",
    "    'YearBuilt', # Data Original de construção\n",
    "    'YearRemodAdd', # Data da reforma (igual à data de construção, se não houver reformas)\n",
    "    '1stFlrSF', # Primeiro andar pés quadrados - converter para metros²\n",
    "    'GrLivArea', # Área de estar acima do nível do solo (pés quadrados)\n",
    "    'FullBath', # Banheiros completos\n",
    "    'KitchenQual', # Qualidade da cozinha\n",
    "    'TotRmsAbvGrd', # Total de cômodos acima do nível do solo (não inclui banheiros)\n",
    "    'GarageCars', # Tamanho da garagem em capacidade de carros\n",
    "    'GarageArea', # Tamanho da garagem em pés quadrados - converter para metros²\n",
    "    'SalePrice', # Preço de Venda\n",
    "]\n",
    "\n",
    "# Padronizando variavel categorica, para transformar em numérica\n",
    "# Decidi fazer a conversão manual, para replicar na aplicação Web e garantir a transformação correta\n",
    "\n",
    "columns_categoricas =['KitchenQual']\n",
    "\n",
    "dicionario_KitchenQual = {\n",
    "       'Ex':0,\n",
    "       'Fa':1,\n",
    "       'Gd':2,\n",
    "       'TA':3\n",
    "       }\n",
    "\n",
    "df['KitchenQual'] = df['KitchenQual'].map(dicionario_KitchenQual)"
   ]
  },
  {
   "cell_type": "code",
   "execution_count": null,
   "metadata": {},
   "outputs": [],
   "source": [
    "# Filtrando o dataset com as variáveis selecionadas\n",
    "df_high_corr = df[lista_campos_forte_correlacao]\n",
    "\n",
    "# 6. Dividir os dados em conjunto de treino e teste\n",
    "X = df_high_corr.drop(\"SalePrice\", axis=1)  # Features\n",
    "y = df_high_corr[\"SalePrice\"]  # Target\n",
    "\n",
    "X_train, X_test, y_train, y_test = train_test_split(X, y, test_size=0.3, random_state=42)\n"
   ]
  },
  {
   "cell_type": "code",
   "execution_count": null,
   "metadata": {},
   "outputs": [],
   "source": [
    "# Aplicando Gradient Boosting Regressor\n",
    "gbr = GradientBoostingRegressor()\n",
    "gbr_params = {'n_estimators': [300], 'learning_rate': [0.02], 'max_depth': [4]}\n",
    "gbr_cv = GridSearchCV(gbr, gbr_params, scoring='neg_mean_squared_error', cv=5)\n",
    "gbr_cv.fit(X_train, y_train)\n",
    "\n",
    "# Prevendo valores\n",
    "gbr_pred = gbr_cv.predict(X_test)\n",
    "\n",
    "# Avaliação do modelo Gradient Boosting\n",
    "print(f\"Melhores parâmetros (GBR): {gbr_cv.best_params_}\")\n",
    "print(f\"R² (GBR): {r2_score(y_test, gbr_pred)}\")\n",
    "print(f\"MAE (GBR): {mean_absolute_error(y_test, gbr_pred)}\")\n",
    "print(f\"RMSE (GBR): {np.sqrt(mean_squared_error(y_test, gbr_pred))}\")\n",
    "\n",
    "# Salvando modelo usando a biblioteca pickle\n",
    "with open('./app_hackathon/modelo_regressao_linear_hackathon.pkl', 'wb') as f:\n",
    "    pickle.dump(gbr_cv.best_estimator_, f)\n"
   ]
  },
  {
   "cell_type": "markdown",
   "metadata": {},
   "source": [
    "### Testando o Modelo"
   ]
  },
  {
   "cell_type": "code",
   "execution_count": null,
   "metadata": {},
   "outputs": [],
   "source": [
    "lista_campos_teste = lista_campos_forte_correlacao[:len(lista_campos_forte_correlacao)-1]#.remove('SalePrice')\n",
    "\n",
    "df_teste = pd.read_csv('./dados/train.csv')\n",
    "df_teste = df_teste[lista_campos_forte_correlacao].head(1)\n",
    "\n"
   ]
  },
  {
   "cell_type": "code",
   "execution_count": null,
   "metadata": {},
   "outputs": [],
   "source": [
    "df_teste"
   ]
  },
  {
   "cell_type": "code",
   "execution_count": null,
   "metadata": {},
   "outputs": [],
   "source": [
    "df_teste['KitchenQual'] = df_teste['KitchenQual'].map(dicionario_KitchenQual)\n",
    "df_teste = df_teste.drop(columns='SalePrice')"
   ]
  },
  {
   "cell_type": "code",
   "execution_count": null,
   "metadata": {},
   "outputs": [],
   "source": [
    "import pickle\n",
    "with open('./app_hackathon/modelo_regressao_linear_hackathon.pkl', 'rb') as f:\n",
    "    model_p = pickle.load(f)\n",
    "    print(\"modelo_pickle: \", model_p)"
   ]
  },
  {
   "cell_type": "code",
   "execution_count": null,
   "metadata": {},
   "outputs": [],
   "source": [
    "# Fazer a previsão com o modelo treinado\n",
    "sale_price_prediction = model_p.predict(df_teste)\n",
    "\n",
    "print(f\"Predição de SalePrice: {sale_price_prediction[0]}\")"
   ]
  }
 ],
 "metadata": {
  "kernelspec": {
   "display_name": ".venv",
   "language": "python",
   "name": "python3"
  },
  "language_info": {
   "codemirror_mode": {
    "name": "ipython",
    "version": 3
   },
   "file_extension": ".py",
   "mimetype": "text/x-python",
   "name": "python",
   "nbconvert_exporter": "python",
   "pygments_lexer": "ipython3",
   "version": "3.10.11"
  }
 },
 "nbformat": 4,
 "nbformat_minor": 2
}
